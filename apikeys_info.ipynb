{
  "cells": [
    {
      "cell_type": "markdown",
      "metadata": {
        "id": "view-in-github",
        "colab_type": "text"
      },
      "source": [
        "<a href=\"https://colab.research.google.com/github/ajmaladhif/infosys-Intenship_5.0/blob/Assignment/apikeys_info.ipynb\" target=\"_parent\"><img src=\"https://colab.research.google.com/assets/colab-badge.svg\" alt=\"Open In Colab\"/></a>"
      ]
    },
    {
      "cell_type": "code",
      "execution_count": 2,
      "metadata": {
        "id": "v4rGXwXRkSRQ"
      },
      "outputs": [],
      "source": [
        "import requests\n",
        "API_KEY = \"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\""
      ]
    },
    {
      "cell_type": "code",
      "execution_count": 3,
      "metadata": {
        "id": "0h8tGjaZ173U"
      },
      "outputs": [],
      "source": [
        "import json\n",
        "url = \"https://api.groq.com/openai/v1/chat/completions\""
      ]
    },
    {
      "cell_type": "code",
      "execution_count": 4,
      "metadata": {
        "colab": {
          "base_uri": "https://localhost:8080/"
        },
        "id": "jv-67YPc2IOW",
        "outputId": "980d3140-ce19-4bb7-a72a-ce50de7031eb"
      },
      "outputs": [
        {
          "name": "stdout",
          "output_type": "stream",
          "text": [
            "prime number python code\n"
          ]
        }
      ],
      "source": [
        "prompt = input()"
      ]
    },
    {
      "cell_type": "code",
      "execution_count": null,
      "metadata": {
        "id": "1hB0r3-wnlBr"
      },
      "outputs": [],
      "source": [
        "data={\n",
        "         \"messages\": [ {\n",
        "          \"role\":\"user\",\n",
        "          \"content\":prompt\n",
        "      }],\n",
        "         \"model\": \"llama3-8b-8192\",\n",
        "         \"temperature\": 0,\n",
        "       }\n",
        "\n",
        "headers={\n",
        "     \"Content-Type\": \"application/json\" ,\n",
        "     \"Authorization\": f\"Bearer {API_KEY}\"\n",
        "}\n",
        "res = requests.post(\n",
        "    url, data=json.dumps(data), headers=headers\n",
        ")\n",
        "\n",
        "res = res.json()"
      ]
    },
    {
      "cell_type": "code",
      "execution_count": null,
      "metadata": {
        "colab": {
          "base_uri": "https://localhost:8080/",
          "height": 127
        },
        "id": "lQE31lQms1Z6",
        "outputId": "e83969dd-e424-4702-9403-5e536dc339c1"
      },
      "outputs": [
        {
          "data": {
            "application/vnd.google.colaboratory.intrinsic+json": {
              "type": "string"
            },
            "text/plain": [
              "\"Here is a Python code that prints all prime numbers up to a given number:\\n```\\ndef is_prime(n):\\n    if n <= 1:\\n        return False\\n    for i in range(2, int(n ** 0.5) + 1):\\n        if n % i == 0:\\n            return False\\n    return True\\n\\ndef print_primes(n):\\n    for i in range(2, n + 1):\\n        if is_prime(i):\\n            print(i)\\n\\n# Example usage:\\nprint_primes(30)  # prints all prime numbers up to 30\\n```\\nHere's an explanation of the code:\\n\\nThe `is_prime` function takes an integer `n` as input and returns `True` if it is prime, and `False` otherwise. It does this by checking if `n` is less than or equal to 1 (in which case it is not prime), or if it has any divisors other than 1 and itself (in which case it is not prime). The `range` function is used to iterate from 2 to the square root of `n` (inclusive), and the `if` statement checks if `n` is divisible by any of these numbers.\\n\\nThe `print_primes` function takes an integer `n` as input and prints all prime numbers up to `n`. It does this by iterating from 2 to `n` (inclusive) and calling the `is_prime` function for each number. If the number is prime, it is printed.\\n\\nYou can modify the `print_primes` function to print all prime numbers up to a specific number by changing the range of the `for` loop. For example, to print all prime numbers up to 100, you would use `print_primes(100)`.\\n\\nNote that this code uses a simple trial division method to check for primality, which is not the most efficient method for large numbers. For larger numbers, you may want to use a more advanced primality test, such as the Miller-Rabin primality test.\""
            ]
          },
          "execution_count": 7,
          "metadata": {},
          "output_type": "execute_result"
        }
      ],
      "source": [
        "len(res[\"choices\"])\n",
        "data = res[\"choices\"][0][\"message\"][\"content\"]\n",
        "data"
      ]
    },
    {
      "cell_type": "code",
      "execution_count": null,
      "metadata": {
        "id": "jMtINrrv1itz",
        "colab": {
          "base_uri": "https://localhost:8080/"
        },
        "outputId": "3f2a9eaf-3a96-424c-def2-2d27d22ab147"
      },
      "outputs": [
        {
          "metadata": {
            "tags": null
          },
          "name": "stdout",
          "output_type": "stream",
          "text": [
            "The Arjuna Award is a prestigious award presented by the Government of India to recognize outstanding achievements in sports by Indian athletes. The award is named after Arjuna, a legendary warrior from the Hindu epic, the Mahabharata, who was known for his bravery and skill in archery.\n",
            "\n",
            "The Arjuna Award was instituted in 1961 by the Government of India to honor Indian sportspersons who have achieved international recognition and have made significant contributions to their respective sports. The award is presented annually by the Ministry of Youth Affairs and Sports, Government of India, and is considered one of the highest honors in Indian sports.\n",
            "\n",
            "The criteria for selecting the Arjuna Award winners are as follows:\n",
            "\n",
            "1. The sportsperson must have achieved international recognition and have made significant contributions to their respective sport.\n",
            "2. The sportsperson must have won a medal in an international tournament or have achieved a world ranking of 10 or higher in their respective sport.\n",
            "3. The sportsperson must have been a part of the Indian national team for at least three years.\n",
            "4. The sportsperson must have demonstrated exceptional sportsmanship, discipline, and dedication to their sport.\n",
            "\n",
            "The Arjuna Award winners receive a cash prize of ₹500,000 (approximately $7,000 USD) and a citation. The award is presented to the winners by the President of India or the Prime Minister of India at a special ceremony held annually.\n",
            "\n",
            "Some notable Arjuna Award winners include:\n",
            "\n",
            "1. Sachin Tendulkar (Cricket): Regarded as one of the greatest batsmen in cricket history, Tendulkar won the Arjuna Award in 1994.\n",
            "2. Viswanathan Anand (Chess): A five-time World Chess Champion, Anand won the Arjuna Award in 1985.\n",
            "3. Saina Nehwal (Badminton): A former World No. 1 in badminton, Nehwal won the Arjuna Award in 2010.\n",
            "4. Vijender Singh (Boxing): A former World Boxing Council (WBC) Asia champion, Singh won the Arjuna Award in 2009.\n",
            "5. Mary Kom (Boxing): A five-time World Amateur Boxing Champion, Kom won the Arjuna Award in 2003.\n",
            "6. Abhinav Bindra (Shooting): A gold medalist at the 2008 Beijing Olympics, Bindra won the Arjuna Award in 2001.\n",
            "7. Leander Paes (Tennis): A former World No. 1 in doubles tennis, Paes won the Arjuna Award in 1999.\n",
            "8. P.V. Sindhu (Badminton): A former World No. 2 in badminton, Sindhu won the Arjuna Award in 2013.\n",
            "\n",
            "These are just a few examples of the many talented Indian sportspersons who have received the Arjuna Award. The award is a testament to the country's rich sporting heritage and its commitment to recognizing and rewarding outstanding achievements in sports.\n",
            "\n",
            "\n",
            "\n"
          ]
        }
      ],
      "source": [
        "messages = [\n",
        "  {\n",
        "    \"role\": \"system\",\n",
        "    \"content\": \"You are a knowledgeable assistant specializing in sports. Provide detailed information about awards, achievements, and notable sports personalities.\"\n",
        "  }\n",
        "]\n",
        "while True:\n",
        "  prompt = input(\"Enter the prompt\")\n",
        "  messages.append(\n",
        "    {\n",
        "      \"role\": \"user\",\n",
        "      \"content\": prompt\n",
        "    }\n",
        "  )\n",
        "  data = {\n",
        "    \"messages\": messages,\n",
        "    \"model\": \"llama3-8b-8192\",\n",
        "    \"temperature\": 0\n",
        "  }\n",
        "\n",
        "  headers = {\n",
        "      \"Content-Type\": \"application/json\",\n",
        "      \"Authorization\": f\"Bearer {API_KEY}\"\n",
        "  }\n",
        "\n",
        "  res = requests.post(\n",
        "      url, data=json.dumps(data), headers=headers\n",
        "  )\n",
        "  res = res.json()\n",
        "  data = res[\"choices\"][0][\"message\"][\"content\"]\n",
        "  messages.append(\n",
        "      {\n",
        "          \"role\": \"assistant\",\n",
        "          \"content\": data\n",
        "      }\n",
        "  )\n",
        "  print(data)\n",
        "  print(\"\\n\\n\")"
      ]
    }
  ],
  "metadata": {
    "colab": {
      "provenance": [],
      "authorship_tag": "ABX9TyOmJ12eRiKsb6Vl3EHIS1dl",
      "include_colab_link": true
    },
    "kernelspec": {
      "display_name": "Python 3",
      "name": "python3"
    },
    "language_info": {
      "name": "python"
    }
  },
  "nbformat": 4,
  "nbformat_minor": 0
}